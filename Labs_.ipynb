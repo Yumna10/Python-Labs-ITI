{
  "nbformat": 4,
  "nbformat_minor": 0,
  "metadata": {
    "colab": {
      "provenance": []
    },
    "kernelspec": {
      "name": "python3",
      "display_name": "Python 3"
    },
    "language_info": {
      "name": "python"
    }
  },
  "cells": [
    {
      "cell_type": "markdown",
      "source": [
        "# **Day 1**"
      ],
      "metadata": {
        "id": "XLGu5GwVcVL0"
      }
    },
    {
      "cell_type": "markdown",
      "source": [
        "Write a program that counts up the number of vowels [a, e, i, o,\n",
        "u] contained in the string."
      ],
      "metadata": {
        "id": "xyMZ2l0n_fWv"
      }
    },
    {
      "cell_type": "code",
      "execution_count": null,
      "metadata": {
        "colab": {
          "base_uri": "https://localhost:8080/"
        },
        "id": "ogSZH-1otzaw",
        "outputId": "65bad9da-ba02-4944-c131-83a9f162e433"
      },
      "outputs": [
        {
          "output_type": "stream",
          "name": "stdout",
          "text": [
            "enter here:arwa\n",
            "2\n"
          ]
        }
      ],
      "source": [
        "vowels = 'aeuoi'\n",
        "count = 0\n",
        "text = input('enter here:')\n",
        "for i in text.lower():\n",
        "  if i in vowels:\n",
        "    count+=1\n",
        "print(count)"
      ]
    },
    {
      "cell_type": "markdown",
      "source": [
        "Write a program that prints the number of times the string 'iti'\n",
        "occurs in anystring."
      ],
      "metadata": {
        "id": "idrwZ-Nd_poh"
      }
    },
    {
      "cell_type": "code",
      "source": [
        "anystring = 'khdfBBj iti jnmjbfd'\n",
        "count = anystring.lower().count('iti')\n",
        "print(count)"
      ],
      "metadata": {
        "colab": {
          "base_uri": "https://localhost:8080/"
        },
        "id": "z5DI7Fqtv5N4",
        "outputId": "dae6447f-3997-4a57-966e-3cf6643e82bf"
      },
      "execution_count": null,
      "outputs": [
        {
          "output_type": "stream",
          "name": "stdout",
          "text": [
            "1\n"
          ]
        }
      ]
    },
    {
      "cell_type": "markdown",
      "source": [
        "Write a program that remove all vowels from the input word and\n",
        "generate a brief version of it."
      ],
      "metadata": {
        "id": "2LywSzY4_tAZ"
      }
    },
    {
      "cell_type": "code",
      "source": [
        "vowels = 'aeoui'\n",
        "brief_version = ''\n",
        "text = input('enter here:')\n",
        "for i in text.lower():\n",
        "  if i not in vowels:\n",
        "    brief_version+=i\n",
        "print(brief_version)"
      ],
      "metadata": {
        "colab": {
          "base_uri": "https://localhost:8080/"
        },
        "id": "fPnV4E0xxINs",
        "outputId": "1c6f82db-91f5-4c16-c247-bd37e63f9fa0"
      },
      "execution_count": null,
      "outputs": [
        {
          "output_type": "stream",
          "name": "stdout",
          "text": [
            "enter here:arwa\n",
            "rw\n"
          ]
        }
      ]
    },
    {
      "cell_type": "markdown",
      "source": [
        "Writea program that prints the locations of \"i\" character in any\n",
        "string you added."
      ],
      "metadata": {
        "id": "3XM4hKRcAGTo"
      }
    },
    {
      "cell_type": "code",
      "source": [
        "text = input('enter here:')\n",
        "for a in range(len(text)):\n",
        "  if text[a].lower() == 'i':\n",
        "    print(a)"
      ],
      "metadata": {
        "colab": {
          "base_uri": "https://localhost:8080/"
        },
        "id": "7v7juEzizMI4",
        "outputId": "3572e7df-1a9c-46a3-eb2a-fdc32540254c"
      },
      "execution_count": null,
      "outputs": [
        {
          "output_type": "stream",
          "name": "stdout",
          "text": [
            "enter here:ariwa\n",
            "2\n"
          ]
        }
      ]
    },
    {
      "cell_type": "markdown",
      "source": [
        "Write a program that generate a multiplication table from 1 to the\n",
        "number passed."
      ],
      "metadata": {
        "id": "tZDX4dRuAHoX"
      }
    },
    {
      "cell_type": "code",
      "source": [
        "num = int(input('enter here: '))\n",
        "output = []\n",
        "\n",
        "for i in range(1, num + 1):\n",
        "    row = []\n",
        "    for b in range(1, i + 1):\n",
        "        row.append(i * b)\n",
        "    output.append(row)\n",
        "print(output)"
      ],
      "metadata": {
        "colab": {
          "base_uri": "https://localhost:8080/"
        },
        "id": "aBmEzpZhpZxg",
        "outputId": "af72a2dd-3a1c-4dc3-fb02-ab57872c771c"
      },
      "execution_count": null,
      "outputs": [
        {
          "output_type": "stream",
          "name": "stdout",
          "text": [
            "enter here: 5\n",
            "[[1], [2, 4], [3, 6, 9], [4, 8, 12, 16], [5, 10, 15, 20, 25]]\n"
          ]
        }
      ]
    },
    {
      "cell_type": "markdown",
      "source": [
        " Write a program that build a Mario pyramid like below:"
      ],
      "metadata": {
        "id": "jqibdUY4AMuH"
      }
    },
    {
      "cell_type": "code",
      "source": [
        "num = int(input('enter here:'))\n",
        "for i in range(1, num+1):\n",
        "  print(\" \"* (num-i)+ \"*\" * i)"
      ],
      "metadata": {
        "id": "YcKsPiVU4Dy_",
        "colab": {
          "base_uri": "https://localhost:8080/"
        },
        "outputId": "a39c90b6-393e-4b08-bf58-9fc9e303011d"
      },
      "execution_count": null,
      "outputs": [
        {
          "output_type": "stream",
          "name": "stdout",
          "text": [
            "enter here:5\n",
            "    *\n",
            "   **\n",
            "  ***\n",
            " ****\n",
            "*****\n"
          ]
        }
      ]
    },
    {
      "cell_type": "code",
      "source": [
        "\"\"\"text=\"mohiamed i\"\n",
        "for i in range(0,len(text)):\n",
        "  if text[i] == 'i':\"\"\"\n",
        "print(\"assad\")"
      ],
      "metadata": {
        "colab": {
          "base_uri": "https://localhost:8080/"
        },
        "id": "Q3a90YIQKNkk",
        "outputId": "5a9840df-3a97-4dd6-bb7b-013c1e09e104"
      },
      "execution_count": null,
      "outputs": [
        {
          "output_type": "stream",
          "name": "stdout",
          "text": [
            "assad\n"
          ]
        }
      ]
    },
    {
      "cell_type": "markdown",
      "source": [
        "Fill an array of 5 elements from the user, Sort it in descending\n",
        "and ascending orders then display the output."
      ],
      "metadata": {
        "id": "_ngv1tEo_3cO"
      }
    },
    {
      "cell_type": "code",
      "source": [
        "nums = input(\"Enter 5 nums: \").split()\n",
        "\n",
        "n1, n2, n3, n4, n5 = map(int, nums)\n",
        "\n",
        "sorted_nums = sorted([n1, n2, n3, n4, n5])\n",
        "t = [6,3,2]\n",
        "print(t)\n",
        "a = t.sort()\n",
        "print(a)\n",
        "print(t)\n",
        "print(\"Asc:\", *sorted_nums)\n",
        "print(\"Desc:\", *sorted(sorted_nums, reverse=True))"
      ],
      "metadata": {
        "id": "8ub3kEKPKxiy",
        "colab": {
          "base_uri": "https://localhost:8080/"
        },
        "outputId": "78c7dcf9-110f-4b12-b4c7-578096d7cf70"
      },
      "execution_count": null,
      "outputs": [
        {
          "output_type": "stream",
          "name": "stdout",
          "text": [
            "Enter 5 nums: 6 5 4 7 8\n",
            "[6, 3, 2]\n",
            "None\n",
            "[2, 3, 6]\n",
            "Asc: 4 5 6 7 8\n",
            "Desc: 8 7 6 5 4\n"
          ]
        }
      ]
    },
    {
      "cell_type": "markdown",
      "source": [
        "# **Day 2,3**"
      ],
      "metadata": {
        "id": "_LfERqWa6f3Y"
      }
    },
    {
      "cell_type": "markdown",
      "source": [
        "Write a function that accepts two arguments (length, start) to\n",
        "generate an array of a specific length filled with integer numbers\n",
        "increased by one from start."
      ],
      "metadata": {
        "id": "6HHIkQUe-7nm"
      }
    },
    {
      "cell_type": "code",
      "source": [
        "def q1(length, start):\n",
        "  return [start + i for i in range(length)]\n",
        "q1(5,10)"
      ],
      "metadata": {
        "colab": {
          "base_uri": "https://localhost:8080/"
        },
        "id": "WnVJk_6Rx7ck",
        "outputId": "f8155ec6-4c61-4acd-f6ad-dee29830a0ae"
      },
      "execution_count": null,
      "outputs": [
        {
          "output_type": "execute_result",
          "data": {
            "text/plain": [
              "[10, 11, 12, 13, 14]"
            ]
          },
          "metadata": {},
          "execution_count": 1
        }
      ]
    },
    {
      "cell_type": "markdown",
      "source": [
        "write a function that takes a number as an argument and if the\n",
        "numberdivisible by 3 return \"Fizz\" and if it is divisible by 5 return\n",
        "\"buzz\" and if is is divisible by both return \"FizzBuzz\""
      ],
      "metadata": {
        "id": "VfR3LjHC-_-4"
      }
    },
    {
      "cell_type": "code",
      "source": [
        "def fizzbuzz(num):\n",
        "  if num % 3 == 0 and num % 5 == 0:\n",
        "    print(\"FizzBuzz\")\n",
        "  elif num % 5 == 0:\n",
        "    print(\"Buzz\")\n",
        "  elif num % 3 == 0:\n",
        "    print(\"Fizz\")\n",
        "fizzbuzz(15)"
      ],
      "metadata": {
        "colab": {
          "base_uri": "https://localhost:8080/"
        },
        "id": "2j_AUImHyqL6",
        "outputId": "9405f2cd-8930-425d-c5f1-877dc4721c54"
      },
      "execution_count": null,
      "outputs": [
        {
          "output_type": "stream",
          "name": "stdout",
          "text": [
            "FizzBuzz\n"
          ]
        }
      ]
    },
    {
      "cell_type": "markdown",
      "source": [
        "Write a function which has an input of a string from user then it\n",
        "will return the same string reversed."
      ],
      "metadata": {
        "id": "OA6hEOY-_BaB"
      }
    },
    {
      "cell_type": "code",
      "source": [
        "def reverse():\n",
        "  string = input(\"enter text: \")\n",
        "  reversed = string[::-1]\n",
        "  return reversed\n",
        "reverse()"
      ],
      "metadata": {
        "colab": {
          "base_uri": "https://localhost:8080/",
          "height": 54
        },
        "id": "pstOq6hC42nR",
        "outputId": "f25d1080-04bb-45bd-ec46-f78349f21824"
      },
      "execution_count": null,
      "outputs": [
        {
          "name": "stdout",
          "output_type": "stream",
          "text": [
            "enter text: arwa\n"
          ]
        },
        {
          "output_type": "execute_result",
          "data": {
            "text/plain": [
              "'awra'"
            ],
            "application/vnd.google.colaboratory.intrinsic+json": {
              "type": "string"
            }
          },
          "metadata": {},
          "execution_count": 10
        }
      ]
    },
    {
      "cell_type": "markdown",
      "source": [
        "Ask the user for his name then confirm that he has entered his\n",
        "name(not an empty string/integers). then proceed to ask him for\n",
        "his email and print all this data(Bonus) check if it is a valid email\n",
        "or not\n"
      ],
      "metadata": {
        "id": "HGcni9cI_FY3"
      }
    },
    {
      "cell_type": "code",
      "source": [
        "import re\n",
        "\n",
        "def name_email():\n",
        "  name = input(\"enter your name: \").strip()\n",
        "  while not name or name.isdigit():\n",
        "    print(\"invalid name\")\n",
        "    name = input(\"enter your name: \").strip()\n",
        "  email = input(\"enter your email: \").strip()\n",
        "  while not re.match(r'^[\\w\\.-]+@[\\w\\.-]+\\.\\w+$', email):\n",
        "    print(\"Invalid email format\")\n",
        "    email = input(\"enter your email: \").strip()\n",
        "  print(\"use data:\", name, email)\n",
        "name_email()"
      ],
      "metadata": {
        "colab": {
          "base_uri": "https://localhost:8080/"
        },
        "id": "UqcElVUe_9eZ",
        "outputId": "f4239009-a4f6-44d8-b46e-fc3086ce19a7"
      },
      "execution_count": null,
      "outputs": [
        {
          "output_type": "stream",
          "name": "stdout",
          "text": [
            "enter your name: yumna\n",
            "enter your email: umnagamal@gmail.com\n",
            "use data: yumna umnagamal@gmail.com\n"
          ]
        }
      ]
    },
    {
      "cell_type": "markdown",
      "source": [
        "Write a function that takes a string and prints the\n",
        "longest alphabetical ordered substring occurred For example, if\n",
        "the string is 'abdulrahman' then the output is: Longest substring in\n",
        "alphabetical order is: abdu"
      ],
      "metadata": {
        "id": "i0vtkEbA_LSm"
      }
    },
    {
      "cell_type": "code",
      "source": [
        "def longestalpha(text):\n",
        "  longest = \"\"\n",
        "  current = \"\"\n",
        "  for i in text:\n",
        "    if not current or i >= current[-1]:\n",
        "      current += i\n",
        "    else:\n",
        "      if len(current) > len(longest):\n",
        "        longest = current\n",
        "      current = i\n",
        "  if len(current) > len(longest):\n",
        "   longest = current\n",
        "  print(longest)\n",
        "\n",
        "longestalpha(\"abdulrahman\")"
      ],
      "metadata": {
        "colab": {
          "base_uri": "https://localhost:8080/"
        },
        "id": "0FR8E74YAY6_",
        "outputId": "9a2dafe3-2710-4ad3-a401-276b84675062"
      },
      "execution_count": null,
      "outputs": [
        {
          "output_type": "stream",
          "name": "stdout",
          "text": [
            "abdu\n"
          ]
        }
      ]
    },
    {
      "cell_type": "markdown",
      "source": [
        "Write a program which repeatedly reads numbers until the user\n",
        "enters “done”.\n",
        "\n",
        " ○ Once “done” is entered, print out the total, count, and\n",
        "average of the numbers.\n",
        "\n",
        " ○ If the user enters anything other than a number, detect their\n",
        "mistake, print an error message and skip to the next number."
      ],
      "metadata": {
        "id": "RoK92LYQ_PL4"
      }
    },
    {
      "cell_type": "code",
      "source": [
        "def read_num():\n",
        "  total = 0\n",
        "  count = 0\n",
        "  while True:\n",
        "    num = input(\"enter num or done: \")\n",
        "    if num == 'done':\n",
        "      break\n",
        "    try:\n",
        "      total += int(num)\n",
        "      count += 1\n",
        "    except error:\n",
        "      print(\"invalid\")\n",
        "\n",
        "  if count > 0:\n",
        "    print(f\"{total}\", count, total/count)\n",
        "  else:\n",
        "    print(\"invalid\")\n",
        "\n",
        "read_num()"
      ],
      "metadata": {
        "colab": {
          "base_uri": "https://localhost:8080/"
        },
        "id": "SXwp-yQVVmfA",
        "outputId": "63020cbe-e0d7-4cbb-edf5-56b538cea3b6"
      },
      "execution_count": null,
      "outputs": [
        {
          "output_type": "stream",
          "name": "stdout",
          "text": [
            "enter num or done: 767\n",
            "enter num or done: 45\n",
            "enter num or done: done\n",
            "812 2 406.0\n"
          ]
        }
      ]
    },
    {
      "cell_type": "markdown",
      "source": [
        "# **Day 4**"
      ],
      "metadata": {
        "id": "WApwsZPgPmuq"
      }
    },
    {
      "cell_type": "markdown",
      "source": [
        "Write a Python program to read first n lines of a file (input).\n"
      ],
      "metadata": {
        "id": "ukPadTBwXtz5"
      }
    },
    {
      "cell_type": "code",
      "source": [
        "from google.colab import files\n",
        "uploaded = files.upload()\n",
        "\n",
        "file_name = list(uploaded.keys())[0]\n",
        "n = int(input(\"Enter the number of lines to read: \"))\n",
        "\n",
        "with open(file_name, 'r') as file:\n",
        "    for _ in range(n):\n",
        "        line = file.readline()\n",
        "        if not line:\n",
        "            break\n",
        "        print(line.strip())"
      ],
      "metadata": {
        "colab": {
          "base_uri": "https://localhost:8080/",
          "height": 128
        },
        "id": "6HZsvsvcPq3F",
        "outputId": "6bd8a02c-f8d3-44aa-a436-3f2348b07756"
      },
      "execution_count": null,
      "outputs": [
        {
          "output_type": "display_data",
          "data": {
            "text/plain": [
              "<IPython.core.display.HTML object>"
            ],
            "text/html": [
              "\n",
              "     <input type=\"file\" id=\"files-c7f25aba-cb0a-43fc-86b7-0bc788705f8d\" name=\"files[]\" multiple disabled\n",
              "        style=\"border:none\" />\n",
              "     <output id=\"result-c7f25aba-cb0a-43fc-86b7-0bc788705f8d\">\n",
              "      Upload widget is only available when the cell has been executed in the\n",
              "      current browser session. Please rerun this cell to enable.\n",
              "      </output>\n",
              "      <script>// Copyright 2017 Google LLC\n",
              "//\n",
              "// Licensed under the Apache License, Version 2.0 (the \"License\");\n",
              "// you may not use this file except in compliance with the License.\n",
              "// You may obtain a copy of the License at\n",
              "//\n",
              "//      http://www.apache.org/licenses/LICENSE-2.0\n",
              "//\n",
              "// Unless required by applicable law or agreed to in writing, software\n",
              "// distributed under the License is distributed on an \"AS IS\" BASIS,\n",
              "// WITHOUT WARRANTIES OR CONDITIONS OF ANY KIND, either express or implied.\n",
              "// See the License for the specific language governing permissions and\n",
              "// limitations under the License.\n",
              "\n",
              "/**\n",
              " * @fileoverview Helpers for google.colab Python module.\n",
              " */\n",
              "(function(scope) {\n",
              "function span(text, styleAttributes = {}) {\n",
              "  const element = document.createElement('span');\n",
              "  element.textContent = text;\n",
              "  for (const key of Object.keys(styleAttributes)) {\n",
              "    element.style[key] = styleAttributes[key];\n",
              "  }\n",
              "  return element;\n",
              "}\n",
              "\n",
              "// Max number of bytes which will be uploaded at a time.\n",
              "const MAX_PAYLOAD_SIZE = 100 * 1024;\n",
              "\n",
              "function _uploadFiles(inputId, outputId) {\n",
              "  const steps = uploadFilesStep(inputId, outputId);\n",
              "  const outputElement = document.getElementById(outputId);\n",
              "  // Cache steps on the outputElement to make it available for the next call\n",
              "  // to uploadFilesContinue from Python.\n",
              "  outputElement.steps = steps;\n",
              "\n",
              "  return _uploadFilesContinue(outputId);\n",
              "}\n",
              "\n",
              "// This is roughly an async generator (not supported in the browser yet),\n",
              "// where there are multiple asynchronous steps and the Python side is going\n",
              "// to poll for completion of each step.\n",
              "// This uses a Promise to block the python side on completion of each step,\n",
              "// then passes the result of the previous step as the input to the next step.\n",
              "function _uploadFilesContinue(outputId) {\n",
              "  const outputElement = document.getElementById(outputId);\n",
              "  const steps = outputElement.steps;\n",
              "\n",
              "  const next = steps.next(outputElement.lastPromiseValue);\n",
              "  return Promise.resolve(next.value.promise).then((value) => {\n",
              "    // Cache the last promise value to make it available to the next\n",
              "    // step of the generator.\n",
              "    outputElement.lastPromiseValue = value;\n",
              "    return next.value.response;\n",
              "  });\n",
              "}\n",
              "\n",
              "/**\n",
              " * Generator function which is called between each async step of the upload\n",
              " * process.\n",
              " * @param {string} inputId Element ID of the input file picker element.\n",
              " * @param {string} outputId Element ID of the output display.\n",
              " * @return {!Iterable<!Object>} Iterable of next steps.\n",
              " */\n",
              "function* uploadFilesStep(inputId, outputId) {\n",
              "  const inputElement = document.getElementById(inputId);\n",
              "  inputElement.disabled = false;\n",
              "\n",
              "  const outputElement = document.getElementById(outputId);\n",
              "  outputElement.innerHTML = '';\n",
              "\n",
              "  const pickedPromise = new Promise((resolve) => {\n",
              "    inputElement.addEventListener('change', (e) => {\n",
              "      resolve(e.target.files);\n",
              "    });\n",
              "  });\n",
              "\n",
              "  const cancel = document.createElement('button');\n",
              "  inputElement.parentElement.appendChild(cancel);\n",
              "  cancel.textContent = 'Cancel upload';\n",
              "  const cancelPromise = new Promise((resolve) => {\n",
              "    cancel.onclick = () => {\n",
              "      resolve(null);\n",
              "    };\n",
              "  });\n",
              "\n",
              "  // Wait for the user to pick the files.\n",
              "  const files = yield {\n",
              "    promise: Promise.race([pickedPromise, cancelPromise]),\n",
              "    response: {\n",
              "      action: 'starting',\n",
              "    }\n",
              "  };\n",
              "\n",
              "  cancel.remove();\n",
              "\n",
              "  // Disable the input element since further picks are not allowed.\n",
              "  inputElement.disabled = true;\n",
              "\n",
              "  if (!files) {\n",
              "    return {\n",
              "      response: {\n",
              "        action: 'complete',\n",
              "      }\n",
              "    };\n",
              "  }\n",
              "\n",
              "  for (const file of files) {\n",
              "    const li = document.createElement('li');\n",
              "    li.append(span(file.name, {fontWeight: 'bold'}));\n",
              "    li.append(span(\n",
              "        `(${file.type || 'n/a'}) - ${file.size} bytes, ` +\n",
              "        `last modified: ${\n",
              "            file.lastModifiedDate ? file.lastModifiedDate.toLocaleDateString() :\n",
              "                                    'n/a'} - `));\n",
              "    const percent = span('0% done');\n",
              "    li.appendChild(percent);\n",
              "\n",
              "    outputElement.appendChild(li);\n",
              "\n",
              "    const fileDataPromise = new Promise((resolve) => {\n",
              "      const reader = new FileReader();\n",
              "      reader.onload = (e) => {\n",
              "        resolve(e.target.result);\n",
              "      };\n",
              "      reader.readAsArrayBuffer(file);\n",
              "    });\n",
              "    // Wait for the data to be ready.\n",
              "    let fileData = yield {\n",
              "      promise: fileDataPromise,\n",
              "      response: {\n",
              "        action: 'continue',\n",
              "      }\n",
              "    };\n",
              "\n",
              "    // Use a chunked sending to avoid message size limits. See b/62115660.\n",
              "    let position = 0;\n",
              "    do {\n",
              "      const length = Math.min(fileData.byteLength - position, MAX_PAYLOAD_SIZE);\n",
              "      const chunk = new Uint8Array(fileData, position, length);\n",
              "      position += length;\n",
              "\n",
              "      const base64 = btoa(String.fromCharCode.apply(null, chunk));\n",
              "      yield {\n",
              "        response: {\n",
              "          action: 'append',\n",
              "          file: file.name,\n",
              "          data: base64,\n",
              "        },\n",
              "      };\n",
              "\n",
              "      let percentDone = fileData.byteLength === 0 ?\n",
              "          100 :\n",
              "          Math.round((position / fileData.byteLength) * 100);\n",
              "      percent.textContent = `${percentDone}% done`;\n",
              "\n",
              "    } while (position < fileData.byteLength);\n",
              "  }\n",
              "\n",
              "  // All done.\n",
              "  yield {\n",
              "    response: {\n",
              "      action: 'complete',\n",
              "    }\n",
              "  };\n",
              "}\n",
              "\n",
              "scope.google = scope.google || {};\n",
              "scope.google.colab = scope.google.colab || {};\n",
              "scope.google.colab._files = {\n",
              "  _uploadFiles,\n",
              "  _uploadFilesContinue,\n",
              "};\n",
              "})(self);\n",
              "</script> "
            ]
          },
          "metadata": {}
        },
        {
          "output_type": "stream",
          "name": "stdout",
          "text": [
            "Saving file1.txt to file1 (1).txt\n",
            "Enter the number of lines to read: 2\n",
            "hello to power bi\n",
            "in iti\n"
          ]
        }
      ]
    },
    {
      "cell_type": "markdown",
      "source": [
        "Write a Python program to read a random line from a file."
      ],
      "metadata": {
        "id": "kcc35wULQwrM"
      }
    },
    {
      "cell_type": "code",
      "source": [
        "from google.colab import files\n",
        "uploaded = files.upload()\n",
        "\n",
        "import random\n",
        "\n",
        "# Get the uploaded file name\n",
        "file_name = list(uploaded.keys())[0]\n",
        "\n",
        "# Read and pick a random line\n",
        "with open(file_name, 'r') as file:\n",
        "    lines = file.readlines()\n",
        "\n",
        "if lines:\n",
        "    random_line = random.choice(lines)\n",
        "    print(\"Random line:\", random_line.strip())\n",
        "else:\n",
        "    print(\"The file is empty.\")"
      ],
      "metadata": {
        "colab": {
          "base_uri": "https://localhost:8080/",
          "height": 92
        },
        "id": "BdQHtxNyQEhb",
        "outputId": "98a44f52-4348-4073-f7f0-7d7dcf0e342c"
      },
      "execution_count": null,
      "outputs": [
        {
          "output_type": "display_data",
          "data": {
            "text/plain": [
              "<IPython.core.display.HTML object>"
            ],
            "text/html": [
              "\n",
              "     <input type=\"file\" id=\"files-ec060700-1376-43e6-96ac-c8cd955db1f3\" name=\"files[]\" multiple disabled\n",
              "        style=\"border:none\" />\n",
              "     <output id=\"result-ec060700-1376-43e6-96ac-c8cd955db1f3\">\n",
              "      Upload widget is only available when the cell has been executed in the\n",
              "      current browser session. Please rerun this cell to enable.\n",
              "      </output>\n",
              "      <script>// Copyright 2017 Google LLC\n",
              "//\n",
              "// Licensed under the Apache License, Version 2.0 (the \"License\");\n",
              "// you may not use this file except in compliance with the License.\n",
              "// You may obtain a copy of the License at\n",
              "//\n",
              "//      http://www.apache.org/licenses/LICENSE-2.0\n",
              "//\n",
              "// Unless required by applicable law or agreed to in writing, software\n",
              "// distributed under the License is distributed on an \"AS IS\" BASIS,\n",
              "// WITHOUT WARRANTIES OR CONDITIONS OF ANY KIND, either express or implied.\n",
              "// See the License for the specific language governing permissions and\n",
              "// limitations under the License.\n",
              "\n",
              "/**\n",
              " * @fileoverview Helpers for google.colab Python module.\n",
              " */\n",
              "(function(scope) {\n",
              "function span(text, styleAttributes = {}) {\n",
              "  const element = document.createElement('span');\n",
              "  element.textContent = text;\n",
              "  for (const key of Object.keys(styleAttributes)) {\n",
              "    element.style[key] = styleAttributes[key];\n",
              "  }\n",
              "  return element;\n",
              "}\n",
              "\n",
              "// Max number of bytes which will be uploaded at a time.\n",
              "const MAX_PAYLOAD_SIZE = 100 * 1024;\n",
              "\n",
              "function _uploadFiles(inputId, outputId) {\n",
              "  const steps = uploadFilesStep(inputId, outputId);\n",
              "  const outputElement = document.getElementById(outputId);\n",
              "  // Cache steps on the outputElement to make it available for the next call\n",
              "  // to uploadFilesContinue from Python.\n",
              "  outputElement.steps = steps;\n",
              "\n",
              "  return _uploadFilesContinue(outputId);\n",
              "}\n",
              "\n",
              "// This is roughly an async generator (not supported in the browser yet),\n",
              "// where there are multiple asynchronous steps and the Python side is going\n",
              "// to poll for completion of each step.\n",
              "// This uses a Promise to block the python side on completion of each step,\n",
              "// then passes the result of the previous step as the input to the next step.\n",
              "function _uploadFilesContinue(outputId) {\n",
              "  const outputElement = document.getElementById(outputId);\n",
              "  const steps = outputElement.steps;\n",
              "\n",
              "  const next = steps.next(outputElement.lastPromiseValue);\n",
              "  return Promise.resolve(next.value.promise).then((value) => {\n",
              "    // Cache the last promise value to make it available to the next\n",
              "    // step of the generator.\n",
              "    outputElement.lastPromiseValue = value;\n",
              "    return next.value.response;\n",
              "  });\n",
              "}\n",
              "\n",
              "/**\n",
              " * Generator function which is called between each async step of the upload\n",
              " * process.\n",
              " * @param {string} inputId Element ID of the input file picker element.\n",
              " * @param {string} outputId Element ID of the output display.\n",
              " * @return {!Iterable<!Object>} Iterable of next steps.\n",
              " */\n",
              "function* uploadFilesStep(inputId, outputId) {\n",
              "  const inputElement = document.getElementById(inputId);\n",
              "  inputElement.disabled = false;\n",
              "\n",
              "  const outputElement = document.getElementById(outputId);\n",
              "  outputElement.innerHTML = '';\n",
              "\n",
              "  const pickedPromise = new Promise((resolve) => {\n",
              "    inputElement.addEventListener('change', (e) => {\n",
              "      resolve(e.target.files);\n",
              "    });\n",
              "  });\n",
              "\n",
              "  const cancel = document.createElement('button');\n",
              "  inputElement.parentElement.appendChild(cancel);\n",
              "  cancel.textContent = 'Cancel upload';\n",
              "  const cancelPromise = new Promise((resolve) => {\n",
              "    cancel.onclick = () => {\n",
              "      resolve(null);\n",
              "    };\n",
              "  });\n",
              "\n",
              "  // Wait for the user to pick the files.\n",
              "  const files = yield {\n",
              "    promise: Promise.race([pickedPromise, cancelPromise]),\n",
              "    response: {\n",
              "      action: 'starting',\n",
              "    }\n",
              "  };\n",
              "\n",
              "  cancel.remove();\n",
              "\n",
              "  // Disable the input element since further picks are not allowed.\n",
              "  inputElement.disabled = true;\n",
              "\n",
              "  if (!files) {\n",
              "    return {\n",
              "      response: {\n",
              "        action: 'complete',\n",
              "      }\n",
              "    };\n",
              "  }\n",
              "\n",
              "  for (const file of files) {\n",
              "    const li = document.createElement('li');\n",
              "    li.append(span(file.name, {fontWeight: 'bold'}));\n",
              "    li.append(span(\n",
              "        `(${file.type || 'n/a'}) - ${file.size} bytes, ` +\n",
              "        `last modified: ${\n",
              "            file.lastModifiedDate ? file.lastModifiedDate.toLocaleDateString() :\n",
              "                                    'n/a'} - `));\n",
              "    const percent = span('0% done');\n",
              "    li.appendChild(percent);\n",
              "\n",
              "    outputElement.appendChild(li);\n",
              "\n",
              "    const fileDataPromise = new Promise((resolve) => {\n",
              "      const reader = new FileReader();\n",
              "      reader.onload = (e) => {\n",
              "        resolve(e.target.result);\n",
              "      };\n",
              "      reader.readAsArrayBuffer(file);\n",
              "    });\n",
              "    // Wait for the data to be ready.\n",
              "    let fileData = yield {\n",
              "      promise: fileDataPromise,\n",
              "      response: {\n",
              "        action: 'continue',\n",
              "      }\n",
              "    };\n",
              "\n",
              "    // Use a chunked sending to avoid message size limits. See b/62115660.\n",
              "    let position = 0;\n",
              "    do {\n",
              "      const length = Math.min(fileData.byteLength - position, MAX_PAYLOAD_SIZE);\n",
              "      const chunk = new Uint8Array(fileData, position, length);\n",
              "      position += length;\n",
              "\n",
              "      const base64 = btoa(String.fromCharCode.apply(null, chunk));\n",
              "      yield {\n",
              "        response: {\n",
              "          action: 'append',\n",
              "          file: file.name,\n",
              "          data: base64,\n",
              "        },\n",
              "      };\n",
              "\n",
              "      let percentDone = fileData.byteLength === 0 ?\n",
              "          100 :\n",
              "          Math.round((position / fileData.byteLength) * 100);\n",
              "      percent.textContent = `${percentDone}% done`;\n",
              "\n",
              "    } while (position < fileData.byteLength);\n",
              "  }\n",
              "\n",
              "  // All done.\n",
              "  yield {\n",
              "    response: {\n",
              "      action: 'complete',\n",
              "    }\n",
              "  };\n",
              "}\n",
              "\n",
              "scope.google = scope.google || {};\n",
              "scope.google.colab = scope.google.colab || {};\n",
              "scope.google.colab._files = {\n",
              "  _uploadFiles,\n",
              "  _uploadFilesContinue,\n",
              "};\n",
              "})(self);\n",
              "</script> "
            ]
          },
          "metadata": {}
        },
        {
          "output_type": "stream",
          "name": "stdout",
          "text": [
            "Saving file1.txt to file1 (2).txt\n",
            "Random line: in iti\n"
          ]
        }
      ]
    },
    {
      "cell_type": "markdown",
      "source": [
        "Write a Python program that takes a text file and returns the number of words inside."
      ],
      "metadata": {
        "id": "ukj6GIPiQ0xg"
      }
    },
    {
      "cell_type": "code",
      "source": [
        "from google.colab import files\n",
        "uploaded = files.upload()\n",
        "\n",
        "# Get the uploaded file name\n",
        "file_name = list(uploaded.keys())[0]\n",
        "\n",
        "# Count words (considering commas with no space)\n",
        "with open(file_name, 'r') as file:\n",
        "    text = file.read()\n",
        "\n",
        "# Replace commas with spaces, then split into words\n",
        "cleaned_text = text.replace(',', ' ')\n",
        "words = cleaned_text.split()\n",
        "print(\"Number of words:\", len(words))\n"
      ],
      "metadata": {
        "colab": {
          "base_uri": "https://localhost:8080/",
          "height": 92
        },
        "id": "AlnG9nyvQ9d3",
        "outputId": "c1e7613b-295a-4b35-e991-733c22edda12"
      },
      "execution_count": null,
      "outputs": [
        {
          "output_type": "display_data",
          "data": {
            "text/plain": [
              "<IPython.core.display.HTML object>"
            ],
            "text/html": [
              "\n",
              "     <input type=\"file\" id=\"files-0f101340-5bf7-4e4a-aa41-9861400fe3c2\" name=\"files[]\" multiple disabled\n",
              "        style=\"border:none\" />\n",
              "     <output id=\"result-0f101340-5bf7-4e4a-aa41-9861400fe3c2\">\n",
              "      Upload widget is only available when the cell has been executed in the\n",
              "      current browser session. Please rerun this cell to enable.\n",
              "      </output>\n",
              "      <script>// Copyright 2017 Google LLC\n",
              "//\n",
              "// Licensed under the Apache License, Version 2.0 (the \"License\");\n",
              "// you may not use this file except in compliance with the License.\n",
              "// You may obtain a copy of the License at\n",
              "//\n",
              "//      http://www.apache.org/licenses/LICENSE-2.0\n",
              "//\n",
              "// Unless required by applicable law or agreed to in writing, software\n",
              "// distributed under the License is distributed on an \"AS IS\" BASIS,\n",
              "// WITHOUT WARRANTIES OR CONDITIONS OF ANY KIND, either express or implied.\n",
              "// See the License for the specific language governing permissions and\n",
              "// limitations under the License.\n",
              "\n",
              "/**\n",
              " * @fileoverview Helpers for google.colab Python module.\n",
              " */\n",
              "(function(scope) {\n",
              "function span(text, styleAttributes = {}) {\n",
              "  const element = document.createElement('span');\n",
              "  element.textContent = text;\n",
              "  for (const key of Object.keys(styleAttributes)) {\n",
              "    element.style[key] = styleAttributes[key];\n",
              "  }\n",
              "  return element;\n",
              "}\n",
              "\n",
              "// Max number of bytes which will be uploaded at a time.\n",
              "const MAX_PAYLOAD_SIZE = 100 * 1024;\n",
              "\n",
              "function _uploadFiles(inputId, outputId) {\n",
              "  const steps = uploadFilesStep(inputId, outputId);\n",
              "  const outputElement = document.getElementById(outputId);\n",
              "  // Cache steps on the outputElement to make it available for the next call\n",
              "  // to uploadFilesContinue from Python.\n",
              "  outputElement.steps = steps;\n",
              "\n",
              "  return _uploadFilesContinue(outputId);\n",
              "}\n",
              "\n",
              "// This is roughly an async generator (not supported in the browser yet),\n",
              "// where there are multiple asynchronous steps and the Python side is going\n",
              "// to poll for completion of each step.\n",
              "// This uses a Promise to block the python side on completion of each step,\n",
              "// then passes the result of the previous step as the input to the next step.\n",
              "function _uploadFilesContinue(outputId) {\n",
              "  const outputElement = document.getElementById(outputId);\n",
              "  const steps = outputElement.steps;\n",
              "\n",
              "  const next = steps.next(outputElement.lastPromiseValue);\n",
              "  return Promise.resolve(next.value.promise).then((value) => {\n",
              "    // Cache the last promise value to make it available to the next\n",
              "    // step of the generator.\n",
              "    outputElement.lastPromiseValue = value;\n",
              "    return next.value.response;\n",
              "  });\n",
              "}\n",
              "\n",
              "/**\n",
              " * Generator function which is called between each async step of the upload\n",
              " * process.\n",
              " * @param {string} inputId Element ID of the input file picker element.\n",
              " * @param {string} outputId Element ID of the output display.\n",
              " * @return {!Iterable<!Object>} Iterable of next steps.\n",
              " */\n",
              "function* uploadFilesStep(inputId, outputId) {\n",
              "  const inputElement = document.getElementById(inputId);\n",
              "  inputElement.disabled = false;\n",
              "\n",
              "  const outputElement = document.getElementById(outputId);\n",
              "  outputElement.innerHTML = '';\n",
              "\n",
              "  const pickedPromise = new Promise((resolve) => {\n",
              "    inputElement.addEventListener('change', (e) => {\n",
              "      resolve(e.target.files);\n",
              "    });\n",
              "  });\n",
              "\n",
              "  const cancel = document.createElement('button');\n",
              "  inputElement.parentElement.appendChild(cancel);\n",
              "  cancel.textContent = 'Cancel upload';\n",
              "  const cancelPromise = new Promise((resolve) => {\n",
              "    cancel.onclick = () => {\n",
              "      resolve(null);\n",
              "    };\n",
              "  });\n",
              "\n",
              "  // Wait for the user to pick the files.\n",
              "  const files = yield {\n",
              "    promise: Promise.race([pickedPromise, cancelPromise]),\n",
              "    response: {\n",
              "      action: 'starting',\n",
              "    }\n",
              "  };\n",
              "\n",
              "  cancel.remove();\n",
              "\n",
              "  // Disable the input element since further picks are not allowed.\n",
              "  inputElement.disabled = true;\n",
              "\n",
              "  if (!files) {\n",
              "    return {\n",
              "      response: {\n",
              "        action: 'complete',\n",
              "      }\n",
              "    };\n",
              "  }\n",
              "\n",
              "  for (const file of files) {\n",
              "    const li = document.createElement('li');\n",
              "    li.append(span(file.name, {fontWeight: 'bold'}));\n",
              "    li.append(span(\n",
              "        `(${file.type || 'n/a'}) - ${file.size} bytes, ` +\n",
              "        `last modified: ${\n",
              "            file.lastModifiedDate ? file.lastModifiedDate.toLocaleDateString() :\n",
              "                                    'n/a'} - `));\n",
              "    const percent = span('0% done');\n",
              "    li.appendChild(percent);\n",
              "\n",
              "    outputElement.appendChild(li);\n",
              "\n",
              "    const fileDataPromise = new Promise((resolve) => {\n",
              "      const reader = new FileReader();\n",
              "      reader.onload = (e) => {\n",
              "        resolve(e.target.result);\n",
              "      };\n",
              "      reader.readAsArrayBuffer(file);\n",
              "    });\n",
              "    // Wait for the data to be ready.\n",
              "    let fileData = yield {\n",
              "      promise: fileDataPromise,\n",
              "      response: {\n",
              "        action: 'continue',\n",
              "      }\n",
              "    };\n",
              "\n",
              "    // Use a chunked sending to avoid message size limits. See b/62115660.\n",
              "    let position = 0;\n",
              "    do {\n",
              "      const length = Math.min(fileData.byteLength - position, MAX_PAYLOAD_SIZE);\n",
              "      const chunk = new Uint8Array(fileData, position, length);\n",
              "      position += length;\n",
              "\n",
              "      const base64 = btoa(String.fromCharCode.apply(null, chunk));\n",
              "      yield {\n",
              "        response: {\n",
              "          action: 'append',\n",
              "          file: file.name,\n",
              "          data: base64,\n",
              "        },\n",
              "      };\n",
              "\n",
              "      let percentDone = fileData.byteLength === 0 ?\n",
              "          100 :\n",
              "          Math.round((position / fileData.byteLength) * 100);\n",
              "      percent.textContent = `${percentDone}% done`;\n",
              "\n",
              "    } while (position < fileData.byteLength);\n",
              "  }\n",
              "\n",
              "  // All done.\n",
              "  yield {\n",
              "    response: {\n",
              "      action: 'complete',\n",
              "    }\n",
              "  };\n",
              "}\n",
              "\n",
              "scope.google = scope.google || {};\n",
              "scope.google.colab = scope.google.colab || {};\n",
              "scope.google.colab._files = {\n",
              "  _uploadFiles,\n",
              "  _uploadFilesContinue,\n",
              "};\n",
              "})(self);\n",
              "</script> "
            ]
          },
          "metadata": {}
        },
        {
          "output_type": "stream",
          "name": "stdout",
          "text": [
            "Saving file1.txt to file1 (4).txt\n",
            "Number of words: 8\n"
          ]
        }
      ]
    },
    {
      "cell_type": "markdown",
      "source": [
        "Write function_1() that does the following: - takes input : name , age ,address. - calls function_2().\n",
        "\n",
        "* function_2() :\n",
        "    - creates a file if the file doesn't exist.\n",
        "    - calls function_3().\n",
        "\n",
        "* function_3() :\n",
        "    - writes the name, age and address into the file.\n",
        "    - prints the content of the file."
      ],
      "metadata": {
        "id": "wRQR9Xy23swb"
      }
    },
    {
      "cell_type": "code",
      "source": [
        "def function_1():\n",
        "    name = input(\"Name: \")\n",
        "    age = input(\"Age: \")\n",
        "    address = input(\"Address: \")\n",
        "    function_2(name, age, address)\n",
        "\n",
        "def function_2(name, age, address):\n",
        "    file_name = \"info.txt\"\n",
        "    function_3(file_name, name, age, address)\n",
        "\n",
        "def function_3(file_name, name, age, address):\n",
        "    with open(file_name, 'a') as f:\n",
        "        f.write(f\"{name}, {age}, {address}\\n\")\n",
        "    with open(file_name, 'r') as f:\n",
        "        print(\"\\nFile content:\\n\" + f.read())\n",
        "\n",
        "function_1()\n"
      ],
      "metadata": {
        "colab": {
          "base_uri": "https://localhost:8080/"
        },
        "id": "ohb7kNHVRlRa",
        "outputId": "7a4ba972-4cf2-47f1-816f-e56c9b7634fc"
      },
      "execution_count": 1,
      "outputs": [
        {
          "output_type": "stream",
          "name": "stdout",
          "text": [
            "Name: yumna\n",
            "Age: 22\n",
            "Address: sohag\n",
            "\n",
            "File content:\n",
            "yumna, 22, sohag\n",
            "\n"
          ]
        }
      ]
    },
    {
      "cell_type": "markdown",
      "source": [
        "clean a csv file with missing data(bouns)\n"
      ],
      "metadata": {
        "id": "tZZpYKzdSeIY"
      }
    },
    {
      "cell_type": "code",
      "source": [
        "import csv\n",
        "\n",
        "def clean_csv(file):\n",
        "    with open(file, 'r') as f, open('cleaned_' + file, 'w', newline='') as out:\n",
        "        reader = csv.reader(f)\n",
        "        writer = csv.writer(out)\n",
        "        for row in reader:\n",
        "            if '' not in row:\n",
        "                writer.writerow(row)\n",
        "\n",
        "    print(\"Cleaned file saved as:\", 'cleaned_' + file)\n",
        "\n",
        "clean_csv('products.csv')"
      ],
      "metadata": {
        "colab": {
          "base_uri": "https://localhost:8080/"
        },
        "id": "q0DOEyvRSPU6",
        "outputId": "ec15dd8a-657a-4f28-a4e8-3a22c344d72f"
      },
      "execution_count": null,
      "outputs": [
        {
          "output_type": "stream",
          "name": "stdout",
          "text": [
            "Cleaned file saved as: cleaned_products.csv\n"
          ]
        }
      ]
    },
    {
      "cell_type": "markdown",
      "source": [
        "## **Day 5**"
      ],
      "metadata": {
        "id": "qK_Ci8Z8Sn1w"
      }
    },
    {
      "cell_type": "markdown",
      "source": [
        "1- Create a class Rectangle with attributes width and height, and methods area and perimeter. Then create a class Square that inherits from Rectangle.\n"
      ],
      "metadata": {
        "id": "sIYj8w40UMOQ"
      }
    },
    {
      "cell_type": "code",
      "source": [
        "class Rectangle:\n",
        "    def __init__(self, width, height):\n",
        "        self.width = width\n",
        "        self.height = height\n",
        "\n",
        "    def area(self):\n",
        "        return self.width * self.height\n",
        "\n",
        "    def perimeter(self):\n",
        "        return 2 * (self.width + self.height)\n",
        "\n",
        "\n",
        "class Square(Rectangle):\n",
        "    def __init__(self, side):\n",
        "        super().__init__(side, side)"
      ],
      "metadata": {
        "id": "_sGTsBQvSvDx"
      },
      "execution_count": null,
      "outputs": []
    },
    {
      "cell_type": "markdown",
      "source": [
        "2- Define a class Account with a private attribute balance . Provide methods to deposit, withdraw, and make balance private and provide setter and getter property for it."
      ],
      "metadata": {
        "id": "nceEMVlZUNZx"
      }
    },
    {
      "cell_type": "code",
      "source": [
        "class Account:\n",
        "    def __init__(self, balance=0):\n",
        "        self.__balance = balance\n",
        "\n",
        "    def deposit(self, amount):\n",
        "        self.__balance += amount\n",
        "\n",
        "    def withdraw(self, amount):\n",
        "        if amount <= self.__balance:\n",
        "            self.__balance -= amount\n",
        "        else:\n",
        "            print(\"Insufficient balance\")\n",
        "\n",
        "    @property\n",
        "    def balance(self):\n",
        "        return self.__balance\n",
        "\n",
        "    @balance.setter\n",
        "    def balance(self, amount):\n",
        "        if amount >= 0:\n",
        "            self.__balance = amount\n",
        "        else:\n",
        "            print(\"Balance cannot be negative\")"
      ],
      "metadata": {
        "id": "yAMYC0ejUYLc"
      },
      "execution_count": null,
      "outputs": []
    },
    {
      "cell_type": "markdown",
      "source": [
        "3- Define a function play_sound that accepts an object of a base class Instrument and calls its play method. Create subclasses Guitar and Drum that override the play method. Demonstrate polymorphism by passing objects of Guitar and Drum to play_sound.(bouns)"
      ],
      "metadata": {
        "id": "83D0tafaUZw5"
      }
    },
    {
      "cell_type": "code",
      "source": [
        "class Instrument:\n",
        "    def play(self):\n",
        "        raise NotImplementedError(\"Subclass must implement abstract method\")\n",
        "\n",
        "class Guitar(Instrument):\n",
        "    def play(self):\n",
        "        return \"Strumming the guitar\"\n",
        "\n",
        "class Drum(Instrument):\n",
        "    def play(self):\n",
        "        return \"Beating the drum\"\n",
        "\n",
        "def play_sound(instrument):\n",
        "    print(instrument.play())\n",
        "\n",
        "guitar = Guitar()\n",
        "drum = Drum()\n",
        "\n",
        "play_sound(guitar)\n",
        "play_sound(drum)"
      ],
      "metadata": {
        "colab": {
          "base_uri": "https://localhost:8080/"
        },
        "id": "YM0_JJ58UcpG",
        "outputId": "4dafdb27-3c8f-4e19-8092-9d13d16176ee"
      },
      "execution_count": null,
      "outputs": [
        {
          "output_type": "stream",
          "name": "stdout",
          "text": [
            "Strumming the guitar\n",
            "Beating the drum\n"
          ]
        }
      ]
    }
  ]
}